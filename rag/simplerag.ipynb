{
 "cells": [
  {
   "cell_type": "code",
   "execution_count": 2,
   "id": "df8b0d0a",
   "metadata": {},
   "outputs": [
    {
     "data": {
      "text/plain": [
       "[Document(metadata={'source': 'Malaria.txt'}, page_content=\"Malaria: An Overview\\n\\nMalaria is a life-threatening disease caused by parasites that are transmitted to people through the bites of infected female Anopheles mosquitoes. It remains one of the most significant public health challenges in the world, particularly in tropical and subtropical regions. According to the World Health Organization (WHO), in 2022, there were an estimated 249 million malaria cases and over 600,000 malaria-related deaths globally, with the highest burden in sub-Saharan Africa.\\n\\nCauses and Transmission\\nMalaria is caused by Plasmodium parasites. There are five species of Plasmodium that cause malaria in humans:\\n\\nPlasmodium falciparum (most deadly and common in Africa)\\n\\nPlasmodium vivax (common in Asia and Latin America)\\n\\nPlasmodium malariae\\n\\nPlasmodium ovale\\n\\nPlasmodium knowlesi (zoonotic, found in Southeast Asia)\\n\\nThe parasites are transmitted via the bites of infected Anopheles mosquitoes, which primarily bite between dusk and dawn. Once inside the human body, the parasites travel to the liver, mature, and then infect red blood cells, leading to the symptoms of the disease.\\n\\nSymptoms\\nThe symptoms of malaria typically appear 10–15 days after the bite of an infected mosquito. Early symptoms may be mild and difficult to recognize as malaria. Common symptoms include:\\n\\nFever and chills\\n\\nSweating\\n\\nHeadache\\n\\nMuscle and joint pain\\n\\nFatigue\\n\\nNausea and vomiting\\n\\nAnemia and jaundice due to destruction of red blood cells\\n\\nIf not treated promptly and correctly, P. falciparum malaria can progress to severe illness, often leading to death. Severe symptoms may include:\\n\\nCerebral malaria (coma or seizures)\\n\\nRespiratory distress\\n\\nOrgan failure (kidneys, liver, etc.)\\n\\nHypoglycemia\\n\\nDiagnosis\\nPrompt diagnosis is critical. Malaria is typically diagnosed using:\\n\\nMicroscopy: Examination of blood smears to detect parasites.\\n\\nRapid Diagnostic Tests (RDTs): Detect malaria antigens in a finger-prick blood sample.\\n\\nPolymerase Chain Reaction (PCR): Highly sensitive, used in research or advanced labs.\\n\\nTreatment\\nTreatment depends on the species of Plasmodium and the severity of the disease. Common treatments include:\\n\\nArtemisinin-based Combination Therapies (ACTs): First-line treatment for P. falciparum.\\n\\nChloroquine: Effective against P. vivax and P. ovale in areas without resistance.\\n\\nPrimaquine or Tafenoquine: Used to eliminate dormant liver forms (hypnozoites) of P. vivax and P. ovale to prevent relapse.\\n\\nDrug resistance, especially to artemisinin, is an emerging challenge in some regions like Southeast Asia, making surveillance and research essential.\\n\\nPrevention\\nPrevention strategies include:\\n\\nVector Control:\\n\\nInsecticide-treated mosquito nets (ITNs)\\n\\nIndoor residual spraying (IRS)\\n\\nLarval source management\\n\\nChemoprevention:\\n\\nIntermittent preventive treatment in pregnancy (IPTp)\\n\\nSeasonal malaria chemoprevention (SMC) for children\\n\\nProphylactic drugs for travelers to endemic areas\\n\\nVaccination:\\n\\nThe RTS,S/AS01 malaria vaccine, also known as Mosquirix, has been recommended for use in children in high-transmission areas. A newer vaccine, R21/Matrix-M, is also being introduced in some countries.\\n\\nGlobal Impact and Control Efforts\\nMalaria has a significant economic impact in endemic countries, particularly affecting children under 5 and pregnant women. Global efforts to control malaria include the WHO’s Global Technical Strategy for Malaria 2016–2030, which aims to reduce malaria incidence and mortality rates by at least 90% by 2030.\\n\\nSignificant progress has been made through the distribution of insecticide-treated nets, improved diagnostic testing, and effective treatments. However, challenges such as funding gaps, drug and insecticide resistance, and health system weaknesses persist.\\n\\nConclusion\\nMalaria remains a major global health threat but is preventable and curable. Continued investment in prevention, research, healthcare infrastructure, and public education is critical. Collaborative efforts from governments, NGOs, and international agencies are essential to eliminate malaria and reduce its burden on vulnerable populations.\\n Biological Mechanism\\nMalaria is caused by Plasmodium parasites that undergo a complex life cycle involving both mosquitoes and humans. Here's how the cycle works:\\n\\nSporozoite Stage: When an infected Anopheles mosquito bites a person, it injects sporozoites into the bloodstream.\\n\\nLiver Stage: These sporozoites travel to the liver, infect liver cells, and multiply. For P. vivax and P. ovale, some parasites enter a dormant stage called hypnozoites and can reactivate months or even years later.\\n\\nBlood Stage: After maturing, the parasites leave the liver and infect red blood cells. They multiply inside the cells, causing them to burst and release more parasites, leading to symptoms like fever and chills.\\n\\nGametocyte Formation: Some parasites develop into sexual forms (gametocytes), which are taken up by a mosquito during a blood meal. Inside the mosquito, they reproduce, and the cycle begins again.\\n\\n🏥 Complications and Severity\\nSevere malaria is a medical emergency, particularly with Plasmodium falciparum. It can cause:\\n\\nCerebral malaria: Swelling of the brain, seizures, coma\\n\\nSevere anemia: From destruction of red blood cells\\n\\nAcute respiratory distress syndrome (ARDS)\\n\\nHypoglycemia: Especially in pregnant women and children\\n\\nMulti-organ failure: Kidneys, liver, lungs\\n\\nDeath: Rapid progression can lead to death if untreated within 24–48 hours\\n\\n🧪 Scientific Advances\\nGenetic Editing: Researchers are using CRISPR to study Plasmodium genes and mosquito resistance genes to potentially interrupt transmission.\\n\\nMonoclonal Antibodies: New treatments are being developed that use monoclonal antibodies to target the parasite at specific life stages.\\n\\nNew Vaccines:\\n\\nRTS,S/AS01 (Mosquirix): The first malaria vaccine approved for widespread use. It offers moderate protection in children.\\n\\nR21/Matrix-M: A newer vaccine showing over 75% efficacy in trials. Being rolled out in parts of Africa.\\n\\n💸 Socioeconomic Burden\\nEconomic Impact: Malaria causes billions in lost productivity each year. It increases healthcare costs and lowers workforce availability.\\n\\nEducation: Children frequently miss school due to illness, affecting long-term development.\\n\\nMaternal Health: Malaria in pregnancy can lead to low birth weight, miscarriage, or maternal death.\\n\\nPoverty Cycle: Endemic in poorer regions, malaria reinforces poverty by impacting income, health, and education.\\n\\n🌍 Global Distribution\\nMalaria is endemic in:\\n\\nSub-Saharan Africa: >90% of malaria deaths\\n\\nSouth and Southeast Asia\\n\\nCentral and South America\\n\\nPacific Islands\\n\\nParts of the Middle East\\n\\n🔍 History and Evolution\\nAncient References: Described by Hippocrates as early as 400 BC.\\n\\nDiscovery: Charles Louis Alphonse Laveran first identified the parasite in 1880.\\n\\nRonald Ross: Discovered mosquito transmission in 1897, earning a Nobel Prize.\\n\\nEradication Campaigns: Mid-20th-century WHO programs reduced malaria in many regions but failed to eliminate it globally due to resistance and funding issues.\\n\\n🦟 Mosquito Behavior\\nAnopheles mosquitoes breed in stagnant water like ponds, rice paddies, and ditches.\\n\\nThey are most active from dusk to dawn.\\n\\nInsecticide resistance in mosquito populations is growing, making control more difficult.\\n\\n🛡️ Preventive Strategies\\nPersonal Protection:\\n\\nInsect repellent with DEET or picaridin\\n\\nLong-sleeved clothing\\n\\nSleeping under insecticide-treated nets (ITNs)\\n\\nEnvironmental Management:\\n\\nDraining stagnant water\\n\\nLarvicidal sprays in breeding areas\\n\\nChemoprophylaxis for Travelers:\\n\\nAtovaquone-proguanil, mefloquine, or doxycycline are used to prevent infection in travelers to endemic zones.\\n\\n📊 Resistance Challenges\\nParasite Resistance: Particularly to chloroquine and artemisinin.\\n\\nMosquito Resistance: Resistance to common insecticides like pyrethroids is increasing.\\n\\nGenetic Surveillance: Advanced labs now monitor resistance genes to inform treatment policies.\\n\\n🤝 Global Malaria Partnerships\\nThe Global Fund: Provides resources for prevention and treatment in developing nations.\\n\\nRBM Partnership to End Malaria: A global coalition aiming to eliminate malaria.\\n\\nBill & Melinda Gates Foundation: Heavily invested in vaccine and drug development.\\n\\nWHO’s E-2025 Initiative: Identifies countries on track to eliminate malaria by 2025 and provides targeted support.\\n\\n📈 The Future of Malaria Control\\nWith increasing support, technology, and vaccine availability, malaria elimination is an achievable goal in the 21st century. However, success depends on:\\n\\nPolitical commitment\\n\\nSustained funding\\n\\nGlobal cooperation\\n\\nInnovations in diagnostics, treatment, and prevention\")]"
      ]
     },
     "execution_count": 2,
     "metadata": {},
     "output_type": "execute_result"
    }
   ],
   "source": [
    "## data Ingestion\n",
    "#load\n",
    "from langchain_community.document_loaders import TextLoader\n",
    "import os\n",
    "text=TextLoader(\"Malaria.txt\",  encoding=\"utf-8\")\n",
    "text_documents=text.load()\n",
    "text_documents"
   ]
  },
  {
   "cell_type": "code",
   "execution_count": 2,
   "id": "357d9452",
   "metadata": {},
   "outputs": [
    {
     "name": "stderr",
     "output_type": "stream",
     "text": [
      "USER_AGENT environment variable not set, consider setting it to identify your requests.\n"
     ]
    },
    {
     "data": {
      "text/plain": [
       "[Document(metadata={'source': 'https://python.langchain.com/docs/introduction/'}, page_content='\\nSkip to main contentWe are growing and hiring for multiple roles for LangChain, LangGraph and LangSmith.  Join our team!IntegrationsAPI ReferenceMoreContributingPeopleError referenceLangSmithLangGraphLangChain HubLangChain JS/TSv0.3v0.3v0.2v0.1💬SearchIntroductionTutorialsBuild a Question Answering application over a Graph DatabaseTutorialsBuild a simple LLM application with chat models and prompt templatesBuild a ChatbotBuild a Retrieval Augmented Generation (RAG) App: Part 2Build an Extraction ChainBuild an AgentTaggingBuild a Retrieval Augmented Generation (RAG) App: Part 1Build a semantic search engineBuild a Question/Answering system over SQL dataSummarize TextHow-to guidesHow-to guidesHow to use tools in a chainHow to use a vectorstore as a retrieverHow to add memory to chatbotsHow to use example selectorsHow to add a semantic layer over graph databaseHow to invoke runnables in parallelHow to stream chat model responsesHow to add default invocation args to a RunnableHow to add retrieval to chatbotsHow to use few shot examples in chat modelsHow to do tool/function callingHow to install LangChain packagesHow to add examples to the prompt for query analysisHow to use few shot examplesHow to run custom functionsHow to use output parsers to parse an LLM response into structured formatHow to handle cases where no queries are generatedHow to route between sub-chainsHow to return structured data from a modelHow to summarize text through parallelizationHow to summarize text through iterative refinementHow to summarize text in a single LLM callHow to use toolkitsHow to add ad-hoc tool calling capability to LLMs and Chat ModelsBuild an Agent with AgentExecutor (Legacy)How to construct knowledge graphsHow to partially format prompt templatesHow to handle multiple queries when doing query analysisHow to use built-in tools and toolkitsHow to pass through arguments from one step to the nextHow to compose prompts togetherHow to handle multiple retrievers when doing query analysisHow to add values to a chain\\'s stateHow to construct filters for query analysisHow to configure runtime chain internalsHow deal with high cardinality categoricals when doing query analysisCustom Document LoaderHow to use the MultiQueryRetrieverHow to add scores to retriever resultsCachingHow to use callbacks in async environmentsHow to attach callbacks to a runnableHow to propagate callbacks  constructorHow to dispatch custom callback eventsHow to pass callbacks in at runtimeHow to split by characterHow to cache chat model responsesHow to handle rate limitsHow to init any model in one lineHow to track token usage in ChatModelsHow to add tools to chatbotsHow to split codeHow to do retrieval with contextual compressionHow to convert Runnables to ToolsHow to create custom callback handlersHow to create a custom chat model classCustom EmbeddingsHow to create a custom LLM classCustom RetrieverHow to create toolsHow to debug your LLM appsHow to load CSVsHow to load documents from a directoryHow to load HTMLHow to load JSONHow to load MarkdownHow to load Microsoft Office filesHow to load PDFsHow to load web pagesHow to create a dynamic (self-constructing) chainText embedding modelsHow to combine results from multiple retrieversHow to select examples from a LangSmith datasetHow to select examples by lengthHow to select examples by maximal marginal relevance (MMR)How to select examples by n-gram overlapHow to select examples by similarityHow to use reference examples when doing extractionHow to handle long text when doing extractionHow to use prompting alone (no tool calling) to do extractionHow to add fallbacks to a runnableHow to filter messagesHybrid SearchHow to use the LangChain indexing APIHow to inspect runnablesLangChain Expression Language CheatsheetHow to cache LLM responsesHow to track token usage for LLMsRun models locallyHow to get log probabilitiesHow to reorder retrieved results to mitigate the \"lost in the middle\" effectHow to split Markdown by HeadersHow to merge consecutive messages of the same typeHow to add message historyHow to migrate from legacy LangChain agents to LangGraphHow to retrieve using multiple vectors per documentHow to pass multimodal data to modelsHow to use multimodal promptsHow to create a custom Output ParserHow to use the output-fixing parserHow to parse JSON outputHow to retry when a parsing error occursHow to parse text from message objectsHow to parse XML outputHow to parse YAML outputHow to use the Parent Document RetrieverHow to use LangChain with different Pydantic versionsHow to add chat historyHow to get a RAG application to add citationsHow to do per-user retrievalHow to get your RAG application to return sourcesHow to stream results from your RAG applicationHow to split JSON dataHow to recursively split text by charactersResponse metadataHow to pass runtime secrets to runnablesHow to do \"self-querying\" retrievalHow to split text based on semantic similarityHow to chain runnablesHow to save and load LangChain objectsHow to split text by tokensHow to split HTMLHow to do question answering over CSVsHow to deal with large databases when doing SQL question-answeringHow to better prompt when doing SQL question-answeringHow to do query validation as part of SQL question-answeringHow to stream runnablesHow to stream responses from an LLMHow to use a time-weighted vector store retrieverHow to return artifacts from a toolHow to use chat models to call toolsHow to disable parallel tool callingHow to force models to call a toolHow to access the RunnableConfig from a toolHow to pass tool outputs to chat modelsHow to pass run time values to toolsHow to stream events from a toolHow to stream tool callsHow to convert tools to OpenAI FunctionsHow to handle tool errorsHow to use few-shot prompting with tool callingHow to add a human-in-the-loop for toolsHow to bind model-specific toolsHow to trim messagesHow to create and query vector storesConceptual guideAgentsArchitectureAsync programming with langchainCallbacksChat historyChat modelsDocument loadersEmbedding modelsEvaluationExample selectorsFew-shot promptingConceptual guideKey-value storesLangChain Expression Language (LCEL)MessagesMultimodalityOutput parsersPrompt TemplatesRetrieval augmented generation (RAG)RetrievalRetrieversRunnable interfaceStreamingStructured outputsTestingString-in, string-out llmsText splittersTokensTool callingToolsTracingVector storesWhy LangChain?Ecosystem🦜🛠️ LangSmith🦜🕸️ LangGraphVersionsv0.3v0.2Pydantic compatibilityMigrating from v0.0 chainsHow to migrate from v0.0 chainsMigrating from ConstitutionalChainMigrating from ConversationalChainMigrating from ConversationalRetrievalChainMigrating from LLMChainMigrating from LLMMathChainMigrating from LLMRouterChainMigrating from MapReduceDocumentsChainMigrating from MapRerankDocumentsChainMigrating from MultiPromptChainMigrating from RefineDocumentsChainMigrating from RetrievalQAMigrating from StuffDocumentsChainUpgrading to LangGraph memoryHow to migrate to LangGraph memoryHow to use BaseChatMessageHistory with LangGraphMigrating off ConversationBufferMemory or ConversationStringBufferMemoryMigrating off ConversationBufferWindowMemory or ConversationTokenBufferMemoryMigrating off ConversationSummaryMemory or ConversationSummaryBufferMemoryA Long-Term Memory AgentRelease policySecurity PolicyIntroductionOn this pageIntroduction\\nLangChain is a framework for developing applications powered by large language models (LLMs).\\nLangChain simplifies every stage of the LLM application lifecycle:\\n\\nDevelopment: Build your applications using LangChain\\'s open-source components and third-party integrations.\\nUse LangGraph to build stateful agents with first-class streaming and human-in-the-loop support.\\nProductionization: Use LangSmith to inspect, monitor and evaluate your applications, so that you can continuously optimize and deploy with confidence.\\nDeployment: Turn your LangGraph applications into production-ready APIs and Assistants with LangGraph Platform.\\n\\n\\n\\nLangChain implements a standard interface for large language models and related\\ntechnologies, such as embedding models and vector stores, and integrates with\\nhundreds of providers. See the integrations page for\\nmore.\\n\\nSelect chat model:Google Gemini▾OpenAIAnthropicAzureGoogle GeminiGoogle VertexAWSGroqCohereNVIDIAFireworks AIMistral AITogether AIIBM watsonxDatabricksxAIPerplexitypip install -qU \"langchain[google-genai]\"import getpassimport osif not os.environ.get(\"GOOGLE_API_KEY\"):  os.environ[\"GOOGLE_API_KEY\"] = getpass.getpass(\"Enter API key for Google Gemini: \")from langchain.chat_models import init_chat_modelmodel = init_chat_model(\"gemini-2.0-flash\", model_provider=\"google_genai\")\\nmodel.invoke(\"Hello, world!\")\\nnoteThese docs focus on the Python LangChain library. Head here for docs on the JavaScript LangChain library.\\nArchitecture\\u200b\\nThe LangChain framework consists of multiple open-source libraries. Read more in the\\nArchitecture page.\\n\\nlangchain-core: Base abstractions for chat models and other components.\\nIntegration packages (e.g. langchain-openai, langchain-anthropic, etc.): Important integrations have been split into lightweight packages that are co-maintained by the LangChain team and the integration developers.\\nlangchain: Chains, agents, and retrieval strategies that make up an application\\'s cognitive architecture.\\nlangchain-community: Third-party integrations that are community maintained.\\nlanggraph: Orchestration framework for combining LangChain components into production-ready applications with persistence, streaming, and other key features. See LangGraph documentation.\\n\\nGuides\\u200b\\nTutorials\\u200b\\nIf you\\'re looking to build something specific or are more of a hands-on learner, check out our tutorials section.\\nThis is the best place to get started.\\nThese are the best ones to get started with:\\n\\nBuild a Simple LLM Application\\nBuild a Chatbot\\nBuild an Agent\\nIntroduction to LangGraph\\n\\nExplore the full list of LangChain tutorials here, and check out other LangGraph tutorials here. To learn more about LangGraph, check out our first LangChain Academy course, Introduction to LangGraph, available here.\\nHow-to guides\\u200b\\nHere you’ll find short answers to “How do I….?” types of questions.\\nThese how-to guides don’t cover topics in depth – you’ll find that material in the Tutorials and the API Reference.\\nHowever, these guides will help you quickly accomplish common tasks using chat models,\\nvector stores, and other common LangChain components.\\nCheck out LangGraph-specific how-tos here.\\nConceptual guide\\u200b\\nIntroductions to all the key parts of LangChain you’ll need to know! Here you\\'ll find high level explanations of all LangChain concepts.\\nFor a deeper dive into LangGraph concepts, check out this page.\\nIntegrations\\u200b\\nLangChain is part of a rich ecosystem of tools that integrate with our framework and build on top of it.\\nIf you\\'re looking to get up and running quickly with chat models, vector stores,\\nor other LangChain components from a specific provider, check out our growing list of integrations.\\nAPI reference\\u200b\\nHead to the reference section for full documentation of all classes and methods in the LangChain Python packages.\\nEcosystem\\u200b\\n🦜🛠️ LangSmith\\u200b\\nTrace and evaluate your language model applications and intelligent agents to help you move from prototype to production.\\n🦜🕸️ LangGraph\\u200b\\nBuild stateful, multi-actor applications with LLMs. Integrates smoothly with LangChain, but can be used without it. LangGraph powers production-grade agents, trusted by Linkedin, Uber, Klarna, GitLab, and many more.\\nAdditional resources\\u200b\\nVersions\\u200b\\nSee what changed in v0.3, learn how to migrate legacy code, read up on our versioning policies, and more.\\nSecurity\\u200b\\nRead up on security best practices to make sure you\\'re developing safely with LangChain.\\nContributing\\u200b\\nCheck out the developer\\'s guide for guidelines on contributing and help getting your dev environment set up.Edit this pageWas this page helpful?NextTutorialsArchitectureGuidesTutorialsHow-to guidesConceptual guideIntegrationsAPI referenceEcosystem🦜🛠️ LangSmith🦜🕸️ LangGraphAdditional resourcesVersionsSecurityContributingCommunityTwitterGitHubOrganizationPythonJS/TSMoreHomepageBlogYouTubeCopyright © 2025 LangChain, Inc.\\n')]"
      ]
     },
     "execution_count": 2,
     "metadata": {},
     "output_type": "execute_result"
    }
   ],
   "source": [
    "## web base loader\n",
    "from langchain_community.document_loaders import WebBaseLoader\n",
    "import bs4\n",
    "\n",
    "textloader = WebBaseLoader(\n",
    "    web_path=\"https://python.langchain.com/docs/introduction/\",\n",
    "    bs_kwargs=dict(parse_only=bs4.SoupStrainer(\"body\"))\n",
    ")\n",
    "\n",
    "text=textloader.load()\n",
    "text"
   ]
  },
  {
   "cell_type": "code",
   "execution_count": 3,
   "id": "2c4e5f52",
   "metadata": {},
   "outputs": [
    {
     "data": {
      "text/plain": [
       "Document(metadata={'source': 'Malaria.txt'}, page_content='Fever and chills\\n\\nSweating\\n\\nHeadache\\n\\nMuscle and joint pain\\n\\nFatigue\\n\\nNausea and vomiting\\n\\nAnemia and jaundice due to destruction of red blood cells\\n\\nIf not treated promptly and correctly, P. falciparum malaria can progress to severe illness, often leading to death. Severe symptoms may include:\\n\\nCerebral malaria (coma or seizures)\\n\\nRespiratory distress\\n\\nOrgan failure (kidneys, liver, etc.)\\n\\nHypoglycemia\\n\\nDiagnosis\\nPrompt diagnosis is critical. Malaria is typically diagnosed using:')"
      ]
     },
     "execution_count": 3,
     "metadata": {},
     "output_type": "execute_result"
    }
   ],
   "source": [
    "#transform\n",
    "from langchain.text_splitter import RecursiveCharacterTextSplitter\n",
    "text_splitter = RecursiveCharacterTextSplitter(chunk_size=500, chunk_overlap=50)\n",
    "chunks = text_splitter.split_documents(text_documents)\n",
    "# print(len(chunks))\n",
    "chunks[4]"
   ]
  },
  {
   "cell_type": "code",
   "execution_count": 5,
   "id": "5f4954b6",
   "metadata": {},
   "outputs": [
    {
     "name": "stderr",
     "output_type": "stream",
     "text": [
      "C:\\Users\\pthorat\\AppData\\Local\\Temp\\ipykernel_9996\\2433880375.py:4: LangChainDeprecationWarning: Default values for HuggingFaceEmbeddings.model_name were deprecated in LangChain 0.2.16 and will be removed in 0.4.0. Explicitly pass a model_name to the HuggingFaceEmbeddings constructor instead.\n",
      "  db= FAISS.from_documents(chunks, HuggingFaceEmbeddings())\n"
     ]
    }
   ],
   "source": [
    "## vector Embedding\n",
    "from langchain_community.embeddings import HuggingFaceEmbeddings\n",
    "from langchain_community.vectorstores import FAISS\n",
    "db= FAISS.from_documents(chunks, HuggingFaceEmbeddings())"
   ]
  },
  {
   "cell_type": "code",
   "execution_count": null,
   "id": "41b58ce5",
   "metadata": {},
   "outputs": [
    {
     "data": {
      "text/plain": [
       "4"
      ]
     },
     "execution_count": 58,
     "metadata": {},
     "output_type": "execute_result"
    }
   ],
   "source": [
    "query= \"precautions for malaria?\"\n",
    "result=db.similarity_search(query)\n",
    "combined_result = \" \".join([doc.page_content for doc in result])\n",
    "len(result)\n",
    "# combined_result"
   ]
  },
  {
   "cell_type": "code",
   "execution_count": 44,
   "id": "92beaa0d",
   "metadata": {},
   "outputs": [
    {
     "data": {
      "text/plain": [
       "'Fever and chills\\n\\nSweating\\n\\nHeadache\\n\\nMuscle and joint pain\\n\\nFatigue\\n\\nNausea and vomiting\\n\\nAnemia and jaundice due to destruction of red blood cells\\n\\nIf not treated promptly and correctly, P. falciparum malaria can progress to severe illness, often leading to death. Severe symptoms may include:\\n\\nCerebral malaria (coma or seizures)\\n\\nRespiratory distress\\n\\nOrgan failure (kidneys, liver, etc.)\\n\\nHypoglycemia\\n\\nDiagnosis\\nPrompt diagnosis is critical. Malaria is typically diagnosed using:'"
      ]
     },
     "execution_count": 44,
     "metadata": {},
     "output_type": "execute_result"
    }
   ],
   "source": [
    "result[0].page_content"
   ]
  },
  {
   "cell_type": "code",
   "execution_count": 6,
   "id": "a852e2c7",
   "metadata": {},
   "outputs": [
    {
     "name": "stderr",
     "output_type": "stream",
     "text": [
      "C:\\Users\\pthorat\\AppData\\Local\\Temp\\ipykernel_9996\\3834886298.py:6: LangChainDeprecationWarning: The class `ChatOpenAI` was deprecated in LangChain 0.0.10 and will be removed in 1.0. An updated version of the class exists in the :class:`~langchain-openai package and should be used instead. To use it run `pip install -U :class:`~langchain-openai` and import as `from :class:`~langchain_openai import ChatOpenAI``.\n",
      "  llm= ChatOpenAI(model='gpt-4o-mini', max_tokens=200)\n"
     ]
    }
   ],
   "source": [
    "# from langchain_community.llms import Ollama\n",
    "# llm= Ollama(model=\"llama2\")\n",
    "from langchain_community.chat_models import ChatOpenAI\n",
    "from dotenv import load_dotenv\n",
    "load_dotenv()\n",
    "llm= ChatOpenAI(model='gpt-4o-mini', max_tokens=200)"
   ]
  },
  {
   "cell_type": "code",
   "execution_count": 7,
   "id": "3628bc2a",
   "metadata": {},
   "outputs": [],
   "source": [
    "from langchain_core.prompts import ChatPromptTemplate\n",
    "prompt=ChatPromptTemplate.from_template(\n",
    "    \"\"\"Answer the following questions based on the provided contex.\n",
    "    Think step by step before providing a detailed answer.\n",
    "    <context>\n",
    "    {context}\n",
    "    </context>\n",
    "    Question:{input}\"\"\"\n",
    ")"
   ]
  },
  {
   "cell_type": "code",
   "execution_count": 8,
   "id": "04b74ada",
   "metadata": {},
   "outputs": [],
   "source": [
    "## Building chain\n",
    "from langchain.chains import RetrievalQA\n",
    "retriever= db.as_retriever()\n",
    "# print(retriever)\n",
    "qa_chain = RetrievalQA.from_chain_type(llm=llm, retriever=retriever)"
   ]
  },
  {
   "cell_type": "code",
   "execution_count": 9,
   "id": "ab2530d8",
   "metadata": {},
   "outputs": [],
   "source": [
    "chain=prompt|llm"
   ]
  },
  {
   "cell_type": "code",
   "execution_count": null,
   "id": "b68f5440",
   "metadata": {},
   "outputs": [
    {
     "name": "stdout",
     "output_type": "stream",
     "text": [
      "content='Malaria is a life-threatening disease caused by parasites. These parasites are transmitted to humans through the bites of infected female Anopheles mosquitoes. The disease poses a significant public health challenge, particularly in tropical and subtropical regions of the world. \\n\\nIn terms of its impact, malaria continues to be a major concern, as evidenced by the World Health Organization (WHO) data from 2022, which reported approximately 249 million cases and over 600,000 deaths related to malaria globally. The highest burden of the disease is found in sub-Saharan Africa, highlighting the critical need for effective prevention and treatment strategies in these areas.' additional_kwargs={} response_metadata={'token_usage': {'completion_tokens': 126, 'prompt_tokens': 137, 'total_tokens': 263, 'completion_tokens_details': {'accepted_prediction_tokens': 0, 'audio_tokens': 0, 'reasoning_tokens': 0, 'rejected_prediction_tokens': 0}, 'prompt_tokens_details': {'audio_tokens': 0, 'cached_tokens': 0}}, 'model_name': 'gpt-4o-mini', 'system_fingerprint': 'fp_34a54ae93c', 'finish_reason': 'stop', 'logprobs': None} id='run--bf5f7896-2223-4a64-b2d2-696caf1c7312-0'\n"
     ]
    }
   ],
   "source": [
    "input_text = input(\"Ask your question: \")\n",
    "# relevant_content=db.similarity_search(input_text, k=5)[:4].page_content\n",
    "relevant_content=db.similarity_search(input_text)\n",
    "combined_content=\"\".join([doc.page_content for doc in relevant_content])\n",
    "response = chain.invoke({\n",
    "    \"context\": combined_content,\n",
    "    \"input\": input_text\n",
    "})\n",
    "print(response)\n"
   ]
  },
  {
   "cell_type": "code",
   "execution_count": null,
   "id": "0dff18a6",
   "metadata": {},
   "outputs": [],
   "source": []
  }
 ],
 "metadata": {
  "kernelspec": {
   "display_name": "myenv",
   "language": "python",
   "name": "python3"
  },
  "language_info": {
   "codemirror_mode": {
    "name": "ipython",
    "version": 3
   },
   "file_extension": ".py",
   "mimetype": "text/x-python",
   "name": "python",
   "nbconvert_exporter": "python",
   "pygments_lexer": "ipython3",
   "version": "3.12.10"
  }
 },
 "nbformat": 4,
 "nbformat_minor": 5
}
