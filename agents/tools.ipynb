{
 "cells": [
  {
   "cell_type": "code",
   "execution_count": 1,
   "id": "d1abbd8e",
   "metadata": {},
   "outputs": [],
   "source": [
    "# from langchain_community.tools import DuckDuckGoSearchRun\n",
    "# search=DuckDuckGoSearchRun()\n",
    "# search.run(\"latest news about Mars rover\")"
   ]
  },
  {
   "cell_type": "code",
   "execution_count": 19,
   "id": "6650db8a",
   "metadata": {},
   "outputs": [],
   "source": [
    "from langchain_community.tools import WikipediaQueryRun\n",
    "from langchain_community.utilities import WikipediaAPIWrapper\n"
   ]
  },
  {
   "cell_type": "code",
   "execution_count": 20,
   "id": "583eb85d",
   "metadata": {},
   "outputs": [],
   "source": [
    "api_wrapper= WikipediaAPIWrapper(top_k_results=1,doc_content_chars_max=200)\n",
    "wiki=WikipediaQueryRun(api_wrapper=api_wrapper)"
   ]
  },
  {
   "cell_type": "code",
   "execution_count": 21,
   "id": "52cc3809",
   "metadata": {},
   "outputs": [
    {
     "data": {
      "text/plain": [
       "'wikipedia'"
      ]
     },
     "execution_count": 21,
     "metadata": {},
     "output_type": "execute_result"
    }
   ],
   "source": [
    "wiki.name"
   ]
  },
  {
   "cell_type": "code",
   "execution_count": 22,
   "id": "a9febce2",
   "metadata": {},
   "outputs": [
    {
     "name": "stderr",
     "output_type": "stream",
     "text": [
      "C:\\Users\\pthorat\\AppData\\Local\\Temp\\ipykernel_21536\\2025247378.py:8: LangChainDeprecationWarning: Default values for HuggingFaceEmbeddings.model_name were deprecated in LangChain 0.2.16 and will be removed in 0.4.0. Explicitly pass a model_name to the HuggingFaceEmbeddings constructor instead.\n",
      "  db= FAISS.from_documents(documents, HuggingFaceEmbeddings())\n"
     ]
    }
   ],
   "source": [
    "from langchain_community.document_loaders import WebBaseLoader\n",
    "from langchain_community.vectorstores import FAISS\n",
    "from langchain_community.embeddings import HuggingFaceEmbeddings\n",
    "from langchain.text_splitter import RecursiveCharacterTextSplitter\n",
    "loader=WebBaseLoader(\"https://medium.com/%40Shamimw/understanding-langchain-tools-and-agents-a-guide-to-building-smart-ai-applications-e81d200b3c12\")\n",
    "doc=loader.load()\n",
    "documents= RecursiveCharacterTextSplitter(chunk_size=500, chunk_overlap=50).split_documents(doc)\n",
    "db= FAISS.from_documents(documents, HuggingFaceEmbeddings())\n",
    "retriever=db.as_retriever()"
   ]
  },
  {
   "cell_type": "code",
   "execution_count": 5,
   "id": "399655fe",
   "metadata": {},
   "outputs": [],
   "source": [
    "##creating retriever tool\n",
    "from langchain.tools.retriever import create_retriever_tool\n",
    "retriever_tool= create_retriever_tool(retriever, \"langchain_tools\",\n",
    "                      \"search information about diffrent tools and agents. for any question related with tools and agent you must use this, Input should be a string.\"\n",
    "                )"
   ]
  },
  {
   "cell_type": "code",
   "execution_count": 6,
   "id": "08f2bc12",
   "metadata": {},
   "outputs": [],
   "source": [
    "from langchain.tools import Tool\n",
    "\n",
    "# Wrap retriever in a str-friendly Tool\n",
    "retriever_tool_wrapped = Tool(\n",
    "    name=\"langchain_tools\",\n",
    "    func=lambda x: retriever_tool.run({\"query\":x}),\n",
    "    description=\"Search information about different tools and agents. Input should be a string.\"\n",
    ")\n"
   ]
  },
  {
   "cell_type": "code",
   "execution_count": 7,
   "id": "437093c5",
   "metadata": {},
   "outputs": [
    {
     "data": {
      "text/plain": [
       "'Tools — Enable interaction with external APIs (e.g., weather data, stock prices, etc.).Mathematical Tools — Allow AI to perform complex calculations and data processing.File Processing Tools — Help analyze documents, PDFs, or CSV files.Code Execution Tools — Provide AI the capability to write, execute, and debug code in Python or other languages.Example: Using Tools in LangChainHere’s a simple example of defining a LangChain tool that performs a mathematical calculation:from langchain.tools\\n\\nthat allow an AI model (such as GPT-4) to interact with external systems, retrieve data, or perform actions beyond simple text generation. These tools act as APIs or function calls that the AI can invoke when needed.Types of LangChain ToolsSearch Tools — Allow models to fetch real-time information from sources like Google Search or Bing.Database Query Tools — Help AI interact with structured data sources like SQL databases or vector stores.API Call Tools — Enable interaction with external APIs\\n\\nAI models to decide when and how to use tools dynamically. Instead of relying on predefined scripts, agents analyze user queries and choose the best tools to achieve a goal.Types of LangChain AgentsReactive Agents — Select and execute tools based on user input without long-term memory.Conversational Agents — Maintain memory of past interactions, improving responses over time.Planning Agents — Break down complex tasks into smaller steps and execute them sequentially.Custom Agents — Designed for\\n\\na mathematical calculation:from langchain.tools import Tooldef multiply_numbers(x, y):    return x * ymath_tool = Tool(    name=\"MultiplyNumbers\",    func=lambda inputs: multiply_numbers(*inputs),    description=\"Multiplies two numbers and returns the result.\")This tool can now be used by an agent or another LangChain component to perform calculations dynamically.What Are LangChain Agents?Agents in LangChain are advanced components that enable AI models to decide when and how to use tools'"
      ]
     },
     "execution_count": 7,
     "metadata": {},
     "output_type": "execute_result"
    }
   ],
   "source": [
    "result=retriever_tool_wrapped.run(\"what is types of tool\")\n",
    "result"
   ]
  },
  {
   "cell_type": "code",
   "execution_count": 17,
   "id": "a404b972",
   "metadata": {},
   "outputs": [],
   "source": [
    "from langchain.agents import Tool, initialize_agent, AgentType\n",
    "import requests\n",
    "\n",
    "\n",
    "def get_npi_info(npi):\n",
    "    url = f\"https://npiregistry.cms.hhs.gov/api/?number={npi}&version=2.1\"\n",
    "    responce= requests.get(url)\n",
    "    data=responce.json()\n",
    "    # return data\n",
    "    if responce.status_code!=200:\n",
    "        return(\"Failed to get result\")\n",
    "    else:\n",
    "        result = data[\"results\"][0]\n",
    "        org_name = result[\"basic\"][\"organization_name\"]\n",
    "        address = result[\"addresses\"][0]\n",
    "        address_info = {\n",
    "            \"address_1\": address.get(\"address_1\", \"\"),\n",
    "            \"city\": address.get(\"city\", \"\"),\n",
    "            \"state\": address.get(\"state\", \"\"),\n",
    "            \"postal_code\": address.get(\"postal_code\", \"\")\n",
    "        }\n",
    "\n",
    "    return f\"Organization name for NPI {npi}: {org_name} with address {address_info}\"\n",
    "\n",
    "npi_tool = Tool(\n",
    "    name= \"npi_info_tool\",\n",
    "    func= get_npi_info,\n",
    "    description= \"use this to get organization name or hospital name of given npi numbers like 1972503464 with address.\"\n",
    ")"
   ]
  },
  {
   "cell_type": "code",
   "execution_count": 9,
   "id": "ce7db3dd",
   "metadata": {},
   "outputs": [
    {
     "data": {
      "text/plain": [
       "'npi_info_tool'"
      ]
     },
     "execution_count": 9,
     "metadata": {},
     "output_type": "execute_result"
    }
   ],
   "source": [
    "npi_tool.name"
   ]
  },
  {
   "cell_type": "code",
   "execution_count": 10,
   "id": "a25f4948",
   "metadata": {},
   "outputs": [],
   "source": [
    "tools= [wiki, retriever_tool_wrapped, npi_tool]"
   ]
  },
  {
   "cell_type": "code",
   "execution_count": 11,
   "id": "7cde3ae0",
   "metadata": {},
   "outputs": [
    {
     "data": {
      "text/plain": [
       "[WikipediaQueryRun(api_wrapper=WikipediaAPIWrapper(wiki_client=<module 'wikipedia' from 'c:\\\\Users\\\\pthorat\\\\Desktop\\\\Genai\\\\myenv\\\\Lib\\\\site-packages\\\\wikipedia\\\\__init__.py'>, top_k_results=1, lang='en', load_all_available_meta=False, doc_content_chars_max=200)),\n",
       " Tool(name='langchain_tools', description='Search information about different tools and agents. Input should be a string.', func=<function <lambda> at 0x0000013DC7255BC0>),\n",
       " Tool(name='npi_info_tool', description='use this to get organization name or hospital name of given npi numbers like 1972503464 with address.', func=<function get_npi_info at 0x0000013DC7255580>)]"
      ]
     },
     "execution_count": 11,
     "metadata": {},
     "output_type": "execute_result"
    }
   ],
   "source": [
    "tools"
   ]
  },
  {
   "cell_type": "code",
   "execution_count": 12,
   "id": "91e0d354",
   "metadata": {},
   "outputs": [
    {
     "name": "stderr",
     "output_type": "stream",
     "text": [
      "c:\\Users\\pthorat\\Desktop\\Genai\\myenv\\Lib\\site-packages\\langsmith\\client.py:272: LangSmithMissingAPIKeyWarning: API key must be provided when using hosted LangSmith API\n",
      "  warnings.warn(\n"
     ]
    }
   ],
   "source": [
    "from langchain import hub\n",
    "prompt = hub.pull(\"hwchase17/openai-functions-agent\")"
   ]
  },
  {
   "cell_type": "code",
   "execution_count": 13,
   "id": "eb371d75",
   "metadata": {},
   "outputs": [
    {
     "name": "stderr",
     "output_type": "stream",
     "text": [
      "C:\\Users\\pthorat\\AppData\\Local\\Temp\\ipykernel_21536\\699189938.py:5: LangChainDeprecationWarning: The class `ChatOpenAI` was deprecated in LangChain 0.0.10 and will be removed in 1.0. An updated version of the class exists in the :class:`~langchain-openai package and should be used instead. To use it run `pip install -U :class:`~langchain-openai` and import as `from :class:`~langchain_openai import ChatOpenAI``.\n",
      "  llm= ChatOpenAI(model='gpt-4o-mini', max_tokens=200)\n"
     ]
    }
   ],
   "source": [
    "from langchain_community.chat_models import ChatOpenAI\n",
    "# from langchain_community.llms import Ollama\n",
    "from dotenv import load_dotenv\n",
    "load_dotenv()\n",
    "llm= ChatOpenAI(model='gpt-4o-mini', max_tokens=200)\n",
    "# llm= Ollama(model=\"llama2\")"
   ]
  },
  {
   "cell_type": "code",
   "execution_count": 14,
   "id": "28ebdfcb",
   "metadata": {},
   "outputs": [
    {
     "name": "stderr",
     "output_type": "stream",
     "text": [
      "C:\\Users\\pthorat\\AppData\\Local\\Temp\\ipykernel_21536\\4179209173.py:1: LangChainDeprecationWarning: LangChain agents will continue to be supported, but it is recommended for new use cases to be built with LangGraph. LangGraph offers a more flexible and full-featured framework for building agents, including support for tool-calling, persistence of state, and human-in-the-loop workflows. For details, refer to the `LangGraph documentation <https://langchain-ai.github.io/langgraph/>`_ as well as guides for `Migrating from AgentExecutor <https://python.langchain.com/docs/how_to/migrate_agent/>`_ and LangGraph's `Pre-built ReAct agent <https://langchain-ai.github.io/langgraph/how-tos/create-react-agent/>`_.\n",
      "  agent_executor = initialize_agent(\n"
     ]
    }
   ],
   "source": [
    "agent_executor = initialize_agent(\n",
    "    tools=tools,\n",
    "    llm=llm,\n",
    "    agent=AgentType.ZERO_SHOT_REACT_DESCRIPTION,\n",
    "    verbose=True\n",
    ")"
   ]
  },
  {
   "cell_type": "code",
   "execution_count": 16,
   "id": "0eac3187",
   "metadata": {},
   "outputs": [
    {
     "name": "stdout",
     "output_type": "stream",
     "text": [
      "\n",
      "\n",
      "\u001b[1m> Entering new AgentExecutor chain...\u001b[0m\n",
      "\u001b[32;1m\u001b[1;3mI need to gather information about the tools available in Langchain. \n",
      "Action: langchain_tools\n",
      "Action Input: \"tools in langchain\"\u001b[0m\n",
      "Observation: \u001b[33;1m\u001b[1;3mUnderstanding LangChain Tools and Agents: A Guide to Building Smart AI Applications | by WS | MediumSitemapOpen in appSign upSign inMedium LogoWriteSign upSign inUnderstanding LangChain Tools and Agents: A Guide to Building Smart AI ApplicationsWSFollow9 min read·Feb 16, 2025--ListenShareThe rise of AI-powered applications has brought significant advancements in natural language processing (NLP) and automation. LangChain, an open-source framework, has emerged as a powerful tool for developing\n",
      "\n",
      "has emerged as a powerful tool for developing applications that integrate language models with external tools, knowledge bases, and APIs. At the core of LangChain’s functionality are Tools and Agents, which enable AI models to perform actions dynamically.This article explores LangChain’s Tools and Agents, how they work, and how you can leverage them to build intelligent AI-powered applications.What Are LangChain Tools?Tools in LangChain are interfaces that allow an AI model (such as GPT-4) to\n",
      "\n",
      "that allow an AI model (such as GPT-4) to interact with external systems, retrieve data, or perform actions beyond simple text generation. These tools act as APIs or function calls that the AI can invoke when needed.Types of LangChain ToolsSearch Tools — Allow models to fetch real-time information from sources like Google Search or Bing.Database Query Tools — Help AI interact with structured data sources like SQL databases or vector stores.API Call Tools — Enable interaction with external APIs\n",
      "\n",
      "a mathematical calculation:from langchain.tools import Tooldef multiply_numbers(x, y):    return x * ymath_tool = Tool(    name=\"MultiplyNumbers\",    func=lambda inputs: multiply_numbers(*inputs),    description=\"Multiplies two numbers and returns the result.\")This tool can now be used by an agent or another LangChain component to perform calculations dynamically.What Are LangChain Agents?Agents in LangChain are advanced components that enable AI models to decide when and how to use tools\u001b[0m\n",
      "Thought:\u001b[32;1m\u001b[1;3mI need to gather more specific information about the features and functionalities of the tools in Langchain. \n",
      "\n",
      "Action: langchain_tools\n",
      "Action Input: \"features of tools in Langchain\"\u001b[0m\n",
      "Observation: \u001b[33;1m\u001b[1;3mthat allow an AI model (such as GPT-4) to interact with external systems, retrieve data, or perform actions beyond simple text generation. These tools act as APIs or function calls that the AI can invoke when needed.Types of LangChain ToolsSearch Tools — Allow models to fetch real-time information from sources like Google Search or Bing.Database Query Tools — Help AI interact with structured data sources like SQL databases or vector stores.API Call Tools — Enable interaction with external APIs\n",
      "\n",
      "Understanding LangChain Tools and Agents: A Guide to Building Smart AI Applications | by WS | MediumSitemapOpen in appSign upSign inMedium LogoWriteSign upSign inUnderstanding LangChain Tools and Agents: A Guide to Building Smart AI ApplicationsWSFollow9 min read·Feb 16, 2025--ListenShareThe rise of AI-powered applications has brought significant advancements in natural language processing (NLP) and automation. LangChain, an open-source framework, has emerged as a powerful tool for developing\n",
      "\n",
      "a mathematical calculation:from langchain.tools import Tooldef multiply_numbers(x, y):    return x * ymath_tool = Tool(    name=\"MultiplyNumbers\",    func=lambda inputs: multiply_numbers(*inputs),    description=\"Multiplies two numbers and returns the result.\")This tool can now be used by an agent or another LangChain component to perform calculations dynamically.What Are LangChain Agents?Agents in LangChain are advanced components that enable AI models to decide when and how to use tools\n",
      "\n",
      "Tools — Enable interaction with external APIs (e.g., weather data, stock prices, etc.).Mathematical Tools — Allow AI to perform complex calculations and data processing.File Processing Tools — Help analyze documents, PDFs, or CSV files.Code Execution Tools — Provide AI the capability to write, execute, and debug code in Python or other languages.Example: Using Tools in LangChainHere’s a simple example of defining a LangChain tool that performs a mathematical calculation:from langchain.tools\u001b[0m\n",
      "Thought:\u001b[32;1m\u001b[1;3mI now have enough information to summarize the tools in LangChain, including their features and functionalities.\n",
      "\n",
      "Final Answer: LangChain tools are interfaces that allow AI models, such as GPT-4, to interact with external systems, retrieve data, or perform actions beyond simple text generation. They can be categorized into several types:\n",
      "\n",
      "1. **Search Tools**: Enable models to fetch real-time information from sources like Google Search or Bing.\n",
      "2. **Database Query Tools**: Allow interaction with structured data sources like SQL databases or vector stores.\n",
      "3. **API Call Tools**: Facilitate interaction with external APIs for various data retrieval and actions.\n",
      "4. **Mathematical Tools**: Enable complex calculations and data processing.\n",
      "5. **File Processing Tools**: Assist in analyzing documents, PDFs, or CSV files.\n",
      "6. **Code Execution Tools**: Allow writing, executing, and debugging code in programming languages like Python.\n",
      "\n",
      "These tools enhance the capabilities of AI applications by enabling them to perform dynamic actions based\u001b[0m\n",
      "\n",
      "\u001b[1m> Finished chain.\u001b[0m\n"
     ]
    },
    {
     "data": {
      "text/plain": [
       "'LangChain tools are interfaces that allow AI models, such as GPT-4, to interact with external systems, retrieve data, or perform actions beyond simple text generation. They can be categorized into several types:\\n\\n1. **Search Tools**: Enable models to fetch real-time information from sources like Google Search or Bing.\\n2. **Database Query Tools**: Allow interaction with structured data sources like SQL databases or vector stores.\\n3. **API Call Tools**: Facilitate interaction with external APIs for various data retrieval and actions.\\n4. **Mathematical Tools**: Enable complex calculations and data processing.\\n5. **File Processing Tools**: Assist in analyzing documents, PDFs, or CSV files.\\n6. **Code Execution Tools**: Allow writing, executing, and debugging code in programming languages like Python.\\n\\nThese tools enhance the capabilities of AI applications by enabling them to perform dynamic actions based'"
      ]
     },
     "execution_count": 16,
     "metadata": {},
     "output_type": "execute_result"
    }
   ],
   "source": [
    "agent_executor.run(\"Tell me about tools in langchain\")"
   ]
  },
  {
   "cell_type": "code",
   "execution_count": null,
   "id": "a5d74a2f",
   "metadata": {},
   "outputs": [],
   "source": [
    "# from langchain_community.llms import Ollama\n",
    "# llm= Ollama(model=\"llama2\")\n",
    "\n",
    "# agent = initialize_agent(\n",
    "#     tools=tools,\n",
    "#     llm=llm,\n",
    "#     agent=AgentType.ZERO_SHOT_REACT_DESCRIPTION,\n",
    "#     verbose=True\n",
    "# )"
   ]
  }
 ],
 "metadata": {
  "kernelspec": {
   "display_name": "myenv",
   "language": "python",
   "name": "python3"
  },
  "language_info": {
   "codemirror_mode": {
    "name": "ipython",
    "version": 3
   },
   "file_extension": ".py",
   "mimetype": "text/x-python",
   "name": "python",
   "nbconvert_exporter": "python",
   "pygments_lexer": "ipython3",
   "version": "3.12.10"
  }
 },
 "nbformat": 4,
 "nbformat_minor": 5
}
